{
 "cells": [
  {
   "cell_type": "code",
   "execution_count": 1,
   "metadata": {},
   "outputs": [],
   "source": [
    "import pandas as pd\n",
    "import matplotlib.pyplot as plt\n",
    "import ipywidgets as widgets\n",
    "from ipywidgets import interact, fixed, IntSlider, FloatSlider, Layout"
   ]
  },
  {
   "cell_type": "code",
   "execution_count": 2,
   "metadata": {},
   "outputs": [],
   "source": [
    "# enter paths to csv files\n",
    "nav_csv = r\"c:\\Users\\Chris Yeung\\Queen's University\\Amoon Jamzad - Breast_navigated_iKnife\\2024-07-26_SecondCase\\iKnifeSyncData.csv\"\n",
    "chr_xlsx = r\"c:\\Users\\Chris Yeung\\Queen's University\\Amoon Jamzad - Breast_navigated_iKnife\\2024-07-26_SecondCase\\Case142.xlsx\"\n",
    "caut_csv = r\"c:\\Users\\Chris Yeung\\Queen's University\\Amoon Jamzad - Breast_navigated_iKnife\\2024-05-10_1030_Engel\\CauteryState.csv\"\n",
    "sheet_name = \"Sheet2\""
   ]
  },
  {
   "cell_type": "code",
   "execution_count": 3,
   "metadata": {},
   "outputs": [
    {
     "data": {
      "text/html": [
       "<div>\n",
       "<style scoped>\n",
       "    .dataframe tbody tr th:only-of-type {\n",
       "        vertical-align: middle;\n",
       "    }\n",
       "\n",
       "    .dataframe tbody tr th {\n",
       "        vertical-align: top;\n",
       "    }\n",
       "\n",
       "    .dataframe thead th {\n",
       "        text-align: right;\n",
       "    }\n",
       "</style>\n",
       "<table border=\"1\" class=\"dataframe\">\n",
       "  <thead>\n",
       "    <tr style=\"text-align: right;\">\n",
       "      <th></th>\n",
       "      <th>Time (s)</th>\n",
       "      <th>Scan Number</th>\n",
       "      <th>Cautery Tip Needle</th>\n",
       "      <th>Distance To Tumour (mm)</th>\n",
       "      <th>Cautery Speed (mm/s)</th>\n",
       "      <th>Tumor Center</th>\n",
       "      <th>Tumor Dimensions</th>\n",
       "      <th>TIC</th>\n",
       "    </tr>\n",
       "  </thead>\n",
       "  <tbody>\n",
       "    <tr>\n",
       "      <th>0</th>\n",
       "      <td>0.111</td>\n",
       "      <td>NaN</td>\n",
       "      <td>[114.70770264 160.32258606  27.31844139]</td>\n",
       "      <td>181.841049</td>\n",
       "      <td>3367.558721</td>\n",
       "      <td>[-14.85299317   3.97462617  66.05943855]</td>\n",
       "      <td>[21.29864311 23.94656372 21.28066254]</td>\n",
       "      <td>NaN</td>\n",
       "    </tr>\n",
       "    <tr>\n",
       "      <th>1</th>\n",
       "      <td>0.255</td>\n",
       "      <td>NaN</td>\n",
       "      <td>[111.83368683 135.85122681  32.54558563]</td>\n",
       "      <td>159.109986</td>\n",
       "      <td>173.358258</td>\n",
       "      <td>[-14.85299317   3.97462617  66.05943855]</td>\n",
       "      <td>[21.29864311 23.94656372 21.28066254]</td>\n",
       "      <td>NaN</td>\n",
       "    </tr>\n",
       "    <tr>\n",
       "      <th>2</th>\n",
       "      <td>0.381</td>\n",
       "      <td>NaN</td>\n",
       "      <td>[104.82010651  98.27846527  46.00753784]</td>\n",
       "      <td>123.160084</td>\n",
       "      <td>313.843347</td>\n",
       "      <td>[-14.85299317   3.97462617  66.05943855]</td>\n",
       "      <td>[21.29864311 23.94656372 21.28066254]</td>\n",
       "      <td>NaN</td>\n",
       "    </tr>\n",
       "    <tr>\n",
       "      <th>3</th>\n",
       "      <td>0.528</td>\n",
       "      <td>NaN</td>\n",
       "      <td>[98.99256897 85.39936066 62.49929428]</td>\n",
       "      <td>107.733223</td>\n",
       "      <td>143.631327</td>\n",
       "      <td>[-14.85299317   3.97462617  66.05943855]</td>\n",
       "      <td>[21.29864311 23.94656372 21.28066254]</td>\n",
       "      <td>NaN</td>\n",
       "    </tr>\n",
       "    <tr>\n",
       "      <th>4</th>\n",
       "      <td>0.660</td>\n",
       "      <td>NaN</td>\n",
       "      <td>[86.77541351 75.42621613 70.45258331]</td>\n",
       "      <td>91.839698</td>\n",
       "      <td>120.706037</td>\n",
       "      <td>[-14.85299317   3.97462617  66.05943855]</td>\n",
       "      <td>[21.29864311 23.94656372 21.28066254]</td>\n",
       "      <td>NaN</td>\n",
       "    </tr>\n",
       "  </tbody>\n",
       "</table>\n",
       "</div>"
      ],
      "text/plain": [
       "   Time (s)  Scan Number                        Cautery Tip Needle  \\\n",
       "0     0.111          NaN  [114.70770264 160.32258606  27.31844139]   \n",
       "1     0.255          NaN  [111.83368683 135.85122681  32.54558563]   \n",
       "2     0.381          NaN  [104.82010651  98.27846527  46.00753784]   \n",
       "3     0.528          NaN     [98.99256897 85.39936066 62.49929428]   \n",
       "4     0.660          NaN     [86.77541351 75.42621613 70.45258331]   \n",
       "\n",
       "   Distance To Tumour (mm)  Cautery Speed (mm/s)  \\\n",
       "0               181.841049           3367.558721   \n",
       "1               159.109986            173.358258   \n",
       "2               123.160084            313.843347   \n",
       "3               107.733223            143.631327   \n",
       "4                91.839698            120.706037   \n",
       "\n",
       "                               Tumor Center  \\\n",
       "0  [-14.85299317   3.97462617  66.05943855]   \n",
       "1  [-14.85299317   3.97462617  66.05943855]   \n",
       "2  [-14.85299317   3.97462617  66.05943855]   \n",
       "3  [-14.85299317   3.97462617  66.05943855]   \n",
       "4  [-14.85299317   3.97462617  66.05943855]   \n",
       "\n",
       "                        Tumor Dimensions  TIC  \n",
       "0  [21.29864311 23.94656372 21.28066254]  NaN  \n",
       "1  [21.29864311 23.94656372 21.28066254]  NaN  \n",
       "2  [21.29864311 23.94656372 21.28066254]  NaN  \n",
       "3  [21.29864311 23.94656372 21.28066254]  NaN  \n",
       "4  [21.29864311 23.94656372 21.28066254]  NaN  "
      ]
     },
     "execution_count": 3,
     "metadata": {},
     "output_type": "execute_result"
    }
   ],
   "source": [
    "# read nav csv\n",
    "nav_df = pd.read_csv(nav_csv)\n",
    "nav_df.head()"
   ]
  },
  {
   "cell_type": "code",
   "execution_count": 4,
   "metadata": {},
   "outputs": [
    {
     "data": {
      "text/html": [
       "<div>\n",
       "<style scoped>\n",
       "    .dataframe tbody tr th:only-of-type {\n",
       "        vertical-align: middle;\n",
       "    }\n",
       "\n",
       "    .dataframe tbody tr th {\n",
       "        vertical-align: top;\n",
       "    }\n",
       "\n",
       "    .dataframe thead th {\n",
       "        text-align: right;\n",
       "    }\n",
       "</style>\n",
       "<table border=\"1\" class=\"dataframe\">\n",
       "  <thead>\n",
       "    <tr style=\"text-align: right;\">\n",
       "      <th></th>\n",
       "      <th>Time (s)</th>\n",
       "      <th>Scan Number</th>\n",
       "      <th>Cautery Tip Needle</th>\n",
       "      <th>Distance To Tumour (mm)</th>\n",
       "      <th>Cautery Speed (mm/s)</th>\n",
       "      <th>Tumor Center</th>\n",
       "      <th>Tumor Dimensions</th>\n",
       "      <th>TIC</th>\n",
       "      <th>encroachment</th>\n",
       "    </tr>\n",
       "  </thead>\n",
       "  <tbody>\n",
       "    <tr>\n",
       "      <th>0</th>\n",
       "      <td>0.111</td>\n",
       "      <td>NaN</td>\n",
       "      <td>[114.70770264 160.32258606  27.31844139]</td>\n",
       "      <td>181.841049</td>\n",
       "      <td>3367.558721</td>\n",
       "      <td>[-14.85299317   3.97462617  66.05943855]</td>\n",
       "      <td>[21.29864311 23.94656372 21.28066254]</td>\n",
       "      <td>NaN</td>\n",
       "      <td>0</td>\n",
       "    </tr>\n",
       "    <tr>\n",
       "      <th>1</th>\n",
       "      <td>0.255</td>\n",
       "      <td>NaN</td>\n",
       "      <td>[111.83368683 135.85122681  32.54558563]</td>\n",
       "      <td>159.109986</td>\n",
       "      <td>173.358258</td>\n",
       "      <td>[-14.85299317   3.97462617  66.05943855]</td>\n",
       "      <td>[21.29864311 23.94656372 21.28066254]</td>\n",
       "      <td>NaN</td>\n",
       "      <td>0</td>\n",
       "    </tr>\n",
       "    <tr>\n",
       "      <th>2</th>\n",
       "      <td>0.381</td>\n",
       "      <td>NaN</td>\n",
       "      <td>[104.82010651  98.27846527  46.00753784]</td>\n",
       "      <td>123.160084</td>\n",
       "      <td>313.843347</td>\n",
       "      <td>[-14.85299317   3.97462617  66.05943855]</td>\n",
       "      <td>[21.29864311 23.94656372 21.28066254]</td>\n",
       "      <td>NaN</td>\n",
       "      <td>0</td>\n",
       "    </tr>\n",
       "    <tr>\n",
       "      <th>3</th>\n",
       "      <td>0.528</td>\n",
       "      <td>NaN</td>\n",
       "      <td>[98.99256897 85.39936066 62.49929428]</td>\n",
       "      <td>107.733223</td>\n",
       "      <td>143.631327</td>\n",
       "      <td>[-14.85299317   3.97462617  66.05943855]</td>\n",
       "      <td>[21.29864311 23.94656372 21.28066254]</td>\n",
       "      <td>NaN</td>\n",
       "      <td>0</td>\n",
       "    </tr>\n",
       "    <tr>\n",
       "      <th>4</th>\n",
       "      <td>0.660</td>\n",
       "      <td>NaN</td>\n",
       "      <td>[86.77541351 75.42621613 70.45258331]</td>\n",
       "      <td>91.839698</td>\n",
       "      <td>120.706037</td>\n",
       "      <td>[-14.85299317   3.97462617  66.05943855]</td>\n",
       "      <td>[21.29864311 23.94656372 21.28066254]</td>\n",
       "      <td>NaN</td>\n",
       "      <td>0</td>\n",
       "    </tr>\n",
       "  </tbody>\n",
       "</table>\n",
       "</div>"
      ],
      "text/plain": [
       "   Time (s)  Scan Number                        Cautery Tip Needle  \\\n",
       "0     0.111          NaN  [114.70770264 160.32258606  27.31844139]   \n",
       "1     0.255          NaN  [111.83368683 135.85122681  32.54558563]   \n",
       "2     0.381          NaN  [104.82010651  98.27846527  46.00753784]   \n",
       "3     0.528          NaN     [98.99256897 85.39936066 62.49929428]   \n",
       "4     0.660          NaN     [86.77541351 75.42621613 70.45258331]   \n",
       "\n",
       "   Distance To Tumour (mm)  Cautery Speed (mm/s)  \\\n",
       "0               181.841049           3367.558721   \n",
       "1               159.109986            173.358258   \n",
       "2               123.160084            313.843347   \n",
       "3               107.733223            143.631327   \n",
       "4                91.839698            120.706037   \n",
       "\n",
       "                               Tumor Center  \\\n",
       "0  [-14.85299317   3.97462617  66.05943855]   \n",
       "1  [-14.85299317   3.97462617  66.05943855]   \n",
       "2  [-14.85299317   3.97462617  66.05943855]   \n",
       "3  [-14.85299317   3.97462617  66.05943855]   \n",
       "4  [-14.85299317   3.97462617  66.05943855]   \n",
       "\n",
       "                        Tumor Dimensions  TIC  encroachment  \n",
       "0  [21.29864311 23.94656372 21.28066254]  NaN             0  \n",
       "1  [21.29864311 23.94656372 21.28066254]  NaN             0  \n",
       "2  [21.29864311 23.94656372 21.28066254]  NaN             0  \n",
       "3  [21.29864311 23.94656372 21.28066254]  NaN             0  \n",
       "4  [21.29864311 23.94656372 21.28066254]  NaN             0  "
      ]
     },
     "execution_count": 4,
     "metadata": {},
     "output_type": "execute_result"
    }
   ],
   "source": [
    "# convert distance to tumor to binary value\n",
    "nav_df[\"encroachment\"] = nav_df[\"Distance To Tumour (mm)\"] < 0\n",
    "nav_df[\"encroachment\"] = nav_df[\"encroachment\"].astype(int)\n",
    "nav_df.head()"
   ]
  },
  {
   "cell_type": "code",
   "execution_count": 5,
   "metadata": {},
   "outputs": [
    {
     "data": {
      "image/png": "[encoded data removed]",
      "text/plain": [
       "<Figure size 864x144 with 1 Axes>"
      ]
     },
     "metadata": {
      "needs_background": "light"
     },
     "output_type": "display_data"
    }
   ],
   "source": [
    "# plot encroachment\n",
    "t_nav = nav_df[\"Time (s)\"].values\n",
    "t_nav = (t_nav) / 60 # convert from seconds to minutes\n",
    "dist = nav_df[\"Distance To Tumour (mm)\"].values\n",
    "\n",
    "plt.figure(figsize=(12,2))\n",
    "plt.plot(t_nav, dist, color='darkgreen')\n",
    "plt.xlim([t_nav.min(), t_nav.max()])\n",
    "plt.title('cautery to tumor distance')\n",
    "plt.xlabel('time (minutes)')\n",
    "plt.ylabel('distance (mm)')\n",
    "plt.show()"
   ]
  },
  {
   "cell_type": "code",
   "execution_count": 6,
   "metadata": {},
   "outputs": [
    {
     "data": {
      "image/png": "[encoded data removed]",
      "text/plain": [
       "<Figure size 864x144 with 1 Axes>"
      ]
     },
     "metadata": {
      "needs_background": "light"
     },
     "output_type": "display_data"
    }
   ],
   "source": [
    "# plot encroachment\n",
    "breach = nav_df[\"encroachment\"].values\n",
    "\n",
    "plt.figure(figsize=(12,2))\n",
    "plt.plot(t_nav, breach, color='darkgreen')\n",
    "plt.xlim([t_nav.min(), t_nav.max()])\n",
    "plt.title('cautery to tumor distance')\n",
    "plt.xlabel('time (minutes)')\n",
    "plt.ylabel('distance (mm)')\n",
    "plt.show()"
   ]
  },
  {
   "cell_type": "code",
   "execution_count": 7,
   "metadata": {},
   "outputs": [
    {
     "data": {
      "text/html": [
       "<div>\n",
       "<style scoped>\n",
       "    .dataframe tbody tr th:only-of-type {\n",
       "        vertical-align: middle;\n",
       "    }\n",
       "\n",
       "    .dataframe tbody tr th {\n",
       "        vertical-align: top;\n",
       "    }\n",
       "\n",
       "    .dataframe thead th {\n",
       "        text-align: right;\n",
       "    }\n",
       "</style>\n",
       "<table border=\"1\" class=\"dataframe\">\n",
       "  <thead>\n",
       "    <tr style=\"text-align: right;\">\n",
       "      <th></th>\n",
       "      <th>Time(min)</th>\n",
       "      <th>Abundance</th>\n",
       "      <th>Unnamed: 2</th>\n",
       "      <th>Unnamed: 3</th>\n",
       "      <th>Scan (No.)</th>\n",
       "      <th>Abundance.1</th>\n",
       "      <th>Unnamed: 6</th>\n",
       "      <th>Unnamed: 7</th>\n",
       "      <th>Amoons Time check</th>\n",
       "      <th>Unnamed: 9</th>\n",
       "    </tr>\n",
       "  </thead>\n",
       "  <tbody>\n",
       "    <tr>\n",
       "      <th>0</th>\n",
       "      <td>0.034</td>\n",
       "      <td>168884560</td>\n",
       "      <td>NaN</td>\n",
       "      <td>NaN</td>\n",
       "      <td>1</td>\n",
       "      <td>168884560</td>\n",
       "      <td>NaN</td>\n",
       "      <td>NaN</td>\n",
       "      <td>1.0</td>\n",
       "      <td>9.3</td>\n",
       "    </tr>\n",
       "    <tr>\n",
       "      <th>1</th>\n",
       "      <td>0.051</td>\n",
       "      <td>163140608</td>\n",
       "      <td>NaN</td>\n",
       "      <td>NaN</td>\n",
       "      <td>2</td>\n",
       "      <td>163140608</td>\n",
       "      <td>NaN</td>\n",
       "      <td>NaN</td>\n",
       "      <td>2.0</td>\n",
       "      <td>20.4</td>\n",
       "    </tr>\n",
       "    <tr>\n",
       "      <th>2</th>\n",
       "      <td>0.067</td>\n",
       "      <td>15876783</td>\n",
       "      <td>NaN</td>\n",
       "      <td>NaN</td>\n",
       "      <td>3</td>\n",
       "      <td>15876783</td>\n",
       "      <td>NaN</td>\n",
       "      <td>NaN</td>\n",
       "      <td>NaN</td>\n",
       "      <td>NaN</td>\n",
       "    </tr>\n",
       "    <tr>\n",
       "      <th>3</th>\n",
       "      <td>0.084</td>\n",
       "      <td>39804076</td>\n",
       "      <td>NaN</td>\n",
       "      <td>NaN</td>\n",
       "      <td>4</td>\n",
       "      <td>39804076</td>\n",
       "      <td>NaN</td>\n",
       "      <td>NaN</td>\n",
       "      <td>NaN</td>\n",
       "      <td>NaN</td>\n",
       "    </tr>\n",
       "    <tr>\n",
       "      <th>4</th>\n",
       "      <td>0.101</td>\n",
       "      <td>231334176</td>\n",
       "      <td>NaN</td>\n",
       "      <td>NaN</td>\n",
       "      <td>5</td>\n",
       "      <td>231334176</td>\n",
       "      <td>NaN</td>\n",
       "      <td>NaN</td>\n",
       "      <td>NaN</td>\n",
       "      <td>NaN</td>\n",
       "    </tr>\n",
       "  </tbody>\n",
       "</table>\n",
       "</div>"
      ],
      "text/plain": [
       "   Time(min)  Abundance  Unnamed: 2  Unnamed: 3  Scan (No.)  Abundance.1  \\\n",
       "0      0.034  168884560         NaN         NaN           1    168884560   \n",
       "1      0.051  163140608         NaN         NaN           2    163140608   \n",
       "2      0.067   15876783         NaN         NaN           3     15876783   \n",
       "3      0.084   39804076         NaN         NaN           4     39804076   \n",
       "4      0.101  231334176         NaN         NaN           5    231334176   \n",
       "\n",
       "   Unnamed: 6  Unnamed: 7  Amoons Time check  Unnamed: 9  \n",
       "0         NaN         NaN                1.0         9.3  \n",
       "1         NaN         NaN                2.0        20.4  \n",
       "2         NaN         NaN                NaN         NaN  \n",
       "3         NaN         NaN                NaN         NaN  \n",
       "4         NaN         NaN                NaN         NaN  "
      ]
     },
     "execution_count": 7,
     "metadata": {},
     "output_type": "execute_result"
    }
   ],
   "source": [
    "# read chromatogram excel\n",
    "chr_df = pd.read_excel(chr_xlsx, sheet_name=sheet_name)\n",
    "chr_df.head()"
   ]
  },
  {
   "cell_type": "code",
   "execution_count": 8,
   "metadata": {},
   "outputs": [
    {
     "data": {
      "image/png": "[encoded data removed]",
      "text/plain": [
       "<Figure size 864x144 with 1 Axes>"
      ]
     },
     "metadata": {
      "needs_background": "light"
     },
     "output_type": "display_data"
    }
   ],
   "source": [
    "# plot chromatogram\n",
    "chrom = chr_df[\"Abundance\"].values\n",
    "t_chrom = chr_df[\"Time(min)\"].values\n",
    "# s_chrom = chr_df[\"Scan (No.)\"].values\n",
    "\n",
    "plt.figure(figsize=(12,2))\n",
    "plt.plot(t_chrom, chrom, color='darkred')\n",
    "plt.xlim([t_chrom.min(), t_chrom.max()])\n",
    "plt.title('iKnife chromatogram')\n",
    "plt.xlabel('time (minutes)')\n",
    "plt.ylabel('ion counts')\n",
    "plt.show()"
   ]
  },
  {
   "cell_type": "code",
   "execution_count": 7,
   "metadata": {},
   "outputs": [
    {
     "data": {
      "text/html": [
       "<div>\n",
       "<style scoped>\n",
       "    .dataframe tbody tr th:only-of-type {\n",
       "        vertical-align: middle;\n",
       "    }\n",
       "\n",
       "    .dataframe tbody tr th {\n",
       "        vertical-align: top;\n",
       "    }\n",
       "\n",
       "    .dataframe thead th {\n",
       "        text-align: right;\n",
       "    }\n",
       "</style>\n",
       "<table border=\"1\" class=\"dataframe\">\n",
       "  <thead>\n",
       "    <tr style=\"text-align: right;\">\n",
       "      <th></th>\n",
       "      <th>time (min)</th>\n",
       "      <th>cut on</th>\n",
       "      <th>coag on</th>\n",
       "    </tr>\n",
       "  </thead>\n",
       "  <tbody>\n",
       "    <tr>\n",
       "      <th>0</th>\n",
       "      <td>0.000000</td>\n",
       "      <td>0</td>\n",
       "      <td>0</td>\n",
       "    </tr>\n",
       "    <tr>\n",
       "      <th>1</th>\n",
       "      <td>0.000695</td>\n",
       "      <td>0</td>\n",
       "      <td>0</td>\n",
       "    </tr>\n",
       "    <tr>\n",
       "      <th>2</th>\n",
       "      <td>0.001390</td>\n",
       "      <td>0</td>\n",
       "      <td>0</td>\n",
       "    </tr>\n",
       "    <tr>\n",
       "      <th>3</th>\n",
       "      <td>0.002085</td>\n",
       "      <td>0</td>\n",
       "      <td>0</td>\n",
       "    </tr>\n",
       "    <tr>\n",
       "      <th>4</th>\n",
       "      <td>0.002781</td>\n",
       "      <td>0</td>\n",
       "      <td>0</td>\n",
       "    </tr>\n",
       "  </tbody>\n",
       "</table>\n",
       "</div>"
      ],
      "text/plain": [
       "   time (min)  cut on  coag on\n",
       "0    0.000000       0        0\n",
       "1    0.000695       0        0\n",
       "2    0.001390       0        0\n",
       "3    0.002085       0        0\n",
       "4    0.002781       0        0"
      ]
     },
     "execution_count": 7,
     "metadata": {},
     "output_type": "execute_result"
    }
   ],
   "source": [
    "# cautery state\n",
    "caut_df = pd.read_csv(caut_csv)\n",
    "caut_df.head()"
   ]
  },
  {
   "cell_type": "code",
   "execution_count": 8,
   "metadata": {},
   "outputs": [
    {
     "data": {
      "image/png": "[encoded data removed]",
      "text/plain": [
       "<Figure size 864x144 with 1 Axes>"
      ]
     },
     "metadata": {
      "needs_background": "light"
     },
     "output_type": "display_data"
    }
   ],
   "source": [
    "# plot cautery state\n",
    "caut = caut_df[\"coag on\"].values\n",
    "t_caut = caut_df[\"time (min)\"].values\n",
    "\n",
    "plt.figure(figsize=(12,2))\n",
    "plt.plot(t_caut, caut, color='darkblue')\n",
    "plt.xlim([t_caut.min(), t_caut.max()])\n",
    "plt.title('cautery state')\n",
    "plt.xlabel('time (minutes)')\n",
    "plt.ylabel('coag on')\n",
    "plt.show()"
   ]
  },
  {
   "cell_type": "code",
   "execution_count": 9,
   "metadata": {},
   "outputs": [
    {
     "data": {
      "application/vnd.jupyter.widget-view+json": {
       "model_id": "f854c5af3a4246bb89c120bcc1733193",
       "version_major": 2,
       "version_minor": 0
      },
      "text/plain": [
       "interactive(children=(FloatSlider(value=-0.089, description='shift', layout=Layout(width='700px'), max=10.0, m…"
      ]
     },
     "metadata": {},
     "output_type": "display_data"
    }
   ],
   "source": [
    "def dist_thresholding(shift, dist_thresh, t_start, t_width):\n",
    "    plt.figure(figsize=(12,2))\n",
    "    plt.title('chromatogram', loc='left')\n",
    "    plt.plot(t_chrom, chrom / chrom.max())\n",
    "    plt.xlim([t_start,t_start+t_width])\n",
    "    plt.yticks([])\n",
    "    plt.figure(figsize=(12,2))\n",
    "    plt.title('cautery tumor encroachment', loc='left')\n",
    "    plt.plot(t_nav + shift, breach)\n",
    "#     plt.plot(t_nav + shift, dist/dist.max())\n",
    "    plt.xlim([t_start,t_start+t_width])\n",
    "    plt.yticks([])\n",
    "    plt.xlabel('time (minutes)')\n",
    "    plt.show()\n",
    "    plt.figure(figsize=(12,2))\n",
    "    plt.title('cautery in '+str(dist_thresh)+' mm vicinity of tumor', loc='left')\n",
    "    # plt.plot(t_chrom, chrom/chrom.max())\n",
    "    plt.plot(t_nav + shift, dist)\n",
    "    plt.xlim([t_start,t_start+t_width])\n",
    "    plt.yticks([])\n",
    "    plt.xlabel('time (minutes)')\n",
    "    plt.show()\n",
    "\n",
    "layout = Layout(width='700px')\n",
    "aa = interact(dist_thresholding,\n",
    "              shift = FloatSlider(value=-0.089, min=-10, max=10,step=0.01, layout=layout),\n",
    "              dist_thresh = IntSlider(value=30, min=0, max=200, step=1, layout=layout),\n",
    "              t_start = IntSlider(value=7, min=0, max=60, step=0.5, layout=layout),\n",
    "              t_width = IntSlider(value=6, min=1, max=50, step=1, layout=layout),)"
   ]
  },
  {
   "cell_type": "code",
   "execution_count": 9,
   "metadata": {},
   "outputs": [
    {
     "data": {
      "application/vnd.jupyter.widget-view+json": {
       "model_id": "07f5048c3648489bbac600c00184c5eb",
       "version_major": 2,
       "version_minor": 0
      },
      "text/plain": [
       "interactive(children=(FloatSlider(value=-0.397, description='shift', layout=Layout(width='700px'), max=20.0, m…"
      ]
     },
     "metadata": {},
     "output_type": "display_data"
    }
   ],
   "source": [
    "def dist_thresholding(shift, dist_thresh, t_start, t_width):\n",
    "    plt.figure(figsize=(12,2))\n",
    "    plt.title('coag on', loc='left')\n",
    "    plt.plot(t_caut, caut)\n",
    "    plt.xlim([t_start,t_start+t_width])\n",
    "    plt.yticks([])\n",
    "    plt.figure(figsize=(12,2))\n",
    "    plt.title('cautery tumor encroachment', loc='left')\n",
    "    plt.plot(t_nav + shift, breach)\n",
    "#     plt.plot(t_nav + shift, dist/dist.max())\n",
    "    plt.xlim([t_start,t_start+t_width])\n",
    "    plt.yticks([])\n",
    "    plt.xlabel('time (minutes)')\n",
    "    plt.show()\n",
    "    plt.figure(figsize=(12,2))\n",
    "    plt.title('cautery in '+str(dist_thresh)+' mm vicinity of tumor', loc='left')\n",
    "    # plt.plot(t_chrom, chrom/chrom.max())\n",
    "    plt.plot(t_nav + shift, dist)\n",
    "    plt.xlim([t_start,t_start+t_width])\n",
    "    plt.yticks([])\n",
    "    plt.xlabel('time (minutes)')\n",
    "    plt.show()\n",
    "\n",
    "layout = Layout(width='700px')\n",
    "aa = interact(dist_thresholding,\n",
    "              shift = FloatSlider(value=-0.397, min=-20, max=20,step=0.01, layout=layout),\n",
    "              dist_thresh = IntSlider(value=30, min=0, max=200, step=1, layout=layout),\n",
    "              t_start = IntSlider(value=7, min=0, max=60, step=0.5, layout=layout),\n",
    "              t_width = IntSlider(value=6, min=1, max=50, step=1, layout=layout),)"
   ]
  }
 ],
 "metadata": {
  "kernelspec": {
   "display_name": "pt2",
   "language": "python",
   "name": "python3"
  },
  "language_info": {
   "codemirror_mode": {
    "name": "ipython",
    "version": 3
   },
   "file_extension": ".py",
   "mimetype": "text/x-python",
   "name": "python",
   "nbconvert_exporter": "python",
   "pygments_lexer": "ipython3",
   "version": "3.9.18"
  }
 },
 "nbformat": 4,
 "nbformat_minor": 2
}
